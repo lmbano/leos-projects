{
 "cells": [
  {
   "cell_type": "code",
   "execution_count": 1,
   "id": "06616cf2-9044-46ea-a238-c2d1db6986b3",
   "metadata": {},
   "outputs": [],
   "source": [
    "# Import the Flask class from the flask module\n",
    "from flask import Flask, jsonify, request\n",
    "\n",
    "# Create a new instance of the Flask class, passing in the name of the current module as the first argument\n",
    "app = Flask(__name__)\n",
    "\n",
    "# Define a route for the API using the @app.route() decorator\n",
    "@app.route('/api/data', methods=['GET'])\n",
    "def get_data():\n",
    "    \"\"\"\n",
    "    This function returns some sample data in JSON format\n",
    "    \"\"\"\n",
    "    # Define some sample data as a dictionary\n",
    "    data = {'message': 'Hello from the API!', 'data': [1, 2, 3, 4, 5]}\n",
    "    # Return the data as JSON using the jsonify function\n",
    "    return jsonify(data)\n",
    "\n",
    "# Define a route for posting data to the API\n",
    "@app.route('/api/data', methods=['POST'])\n",
    "def post_data():\n",
    "    \"\"\"\n",
    "    This function receives data from a POST request and returns a success message\n",
    "    \"\"\"\n",
    "    # Get the data from the request using the request.get_json() function\n",
    "    data = request.get_json()\n",
    "    # Print the received data to the console\n",
    "    print(data)\n",
    "    # Return a success message as JSON\n",
    "    return jsonify({'message': 'Data received successfully!'})\n",
    "\n"
   ]
  },
  {
   "cell_type": "code",
   "execution_count": null,
   "id": "f0eccdf3-ede4-425b-a97b-f5f2da91267c",
   "metadata": {},
   "outputs": [
    {
     "name": "stdout",
     "output_type": "stream",
     "text": [
      " * Serving Flask app '__main__'\n",
      " * Debug mode: off\n"
     ]
    },
    {
     "name": "stderr",
     "output_type": "stream",
     "text": [
      "WARNING: This is a development server. Do not use it in a production deployment. Use a production WSGI server instead.\n",
      " * Running on http://127.0.0.1:5000\n",
      "Press CTRL+C to quit\n"
     ]
    }
   ],
   "source": [
    "\n",
    "# Run the API if this script is executed directly\n",
    "if __name__ == '__main__':\n",
    "    # Run the API on port 5000\n",
    "    app.run(port=5000)"
   ]
  },
  {
   "cell_type": "code",
   "execution_count": null,
   "id": "3c59080c-3266-4997-89c1-e4376acb3814",
   "metadata": {},
   "outputs": [],
   "source": []
  }
 ],
 "metadata": {
  "kernelspec": {
   "display_name": "Python 3 (ipykernel)",
   "language": "python",
   "name": "python3"
  },
  "language_info": {
   "codemirror_mode": {
    "name": "ipython",
    "version": 3
   },
   "file_extension": ".py",
   "mimetype": "text/x-python",
   "name": "python",
   "nbconvert_exporter": "python",
   "pygments_lexer": "ipython3",
   "version": "3.11.5"
  }
 },
 "nbformat": 4,
 "nbformat_minor": 5
}
